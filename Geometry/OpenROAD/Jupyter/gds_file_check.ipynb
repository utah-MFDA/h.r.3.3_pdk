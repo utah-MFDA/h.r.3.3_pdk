{
 "cells": [
  {
   "cell_type": "code",
   "execution_count": 1,
   "id": "5386594a-7209-4b8a-8ca8-60df0b0c9d99",
   "metadata": {},
   "outputs": [],
   "source": [
    "\n",
    "import gdspy\n",
    "\n",
    "wd_dir = \"./../platforms/mfda_30px_m/gds/\"\n",
    "\n",
    "inGDSFile = \"mfda_30px.gds\" \n",
    "\n",
    "ex_lib = gdspy.GdsLibrary(infile=wd_dir + inGDSFile)\n"
   ]
  },
  {
   "cell_type": "code",
   "execution_count": 6,
   "id": "076dbccc-ce7a-42da-b6bd-41eab3b52cec",
   "metadata": {},
   "outputs": [
    {
     "name": "stdout",
     "output_type": "stream",
     "text": [
      "pump_40px_0\n",
      "[Label(\"out_fluid\", (75.0, 25.0), None, None, False, 6, 251), Label(\"in_fluid\", (75.0, 175.0), None, None, False, 6, 251), Label(\"out_air_valve2\", (125.0, 50.0), None, None, False, 8, 251), Label(\"out_air_dc\", (125.0, 100.0), None, None, False, 8, 251), Label(\"out_air_valve1\", (125.0, 150.0), None, None, False, 8, 251), Label(\"in_air_valve2\", (25.0, 50.0), None, None, False, 8, 251), Label(\"in_air_dc\", (25.0, 100.0), None, None, False, 8, 251), Label(\"in_air_valve1\", (25.0, 150.0), None, None, False, 8, 251)]\n",
      "\n",
      "valve_20px_1\n",
      "[Label(\"out_fluid\", (75.0, 50.0), None, None, False, 6, 251), Label(\"in_fluid\", (25.0, 50.0), None, None, False, 6, 251), Label(\"in_air\", (50.0, 75.0), None, None, False, 8, 251), Label(\"out_air\", (50.0, 25.0), None, None, False, 8, 251)]\n",
      "\n",
      "pump_40px_1\n",
      "[Label(\"out_fluid\", (175.0, 75.0), None, None, False, 6, 251), Label(\"in_fluid\", (25.0, 75.0), None, None, False, 6, 251), Label(\"out_air_valve2\", (150.0, 25.0), None, None, False, 8, 251), Label(\"out_air_dc\", (100.0, 25.0), None, None, False, 8, 251), Label(\"out_air_valve1\", (50.0, 25.0), None, None, False, 8, 251), Label(\"in_air_valve2\", (150.0, 125.0), None, None, False, 8, 251), Label(\"in_air_dc\", (100.0, 125.0), None, None, False, 8, 251), Label(\"in_air_valve1\", (50.0, 125.0), None, None, False, 8, 251)]\n",
      "\n"
     ]
    }
   ],
   "source": [
    "for cell in ex_lib.top_level():\n",
    "    print(cell.name)\n",
    "    print(cell.get_labels())\n",
    "    print(\"\")"
   ]
  },
  {
   "cell_type": "code",
   "execution_count": null,
   "id": "d071a102-633e-4d02-b608-0fa2d28de1f8",
   "metadata": {},
   "outputs": [],
   "source": []
  }
 ],
 "metadata": {
  "kernelspec": {
   "display_name": "Python 3 (ipykernel)",
   "language": "python",
   "name": "python3"
  },
  "language_info": {
   "codemirror_mode": {
    "name": "ipython",
    "version": 3
   },
   "file_extension": ".py",
   "mimetype": "text/x-python",
   "name": "python",
   "nbconvert_exporter": "python",
   "pygments_lexer": "ipython3",
   "version": "3.10.12"
  }
 },
 "nbformat": 4,
 "nbformat_minor": 5
}
