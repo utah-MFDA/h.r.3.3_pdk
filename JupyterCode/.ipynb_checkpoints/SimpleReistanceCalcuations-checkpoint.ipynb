{
 "cells": [
  {
   "cell_type": "code",
   "execution_count": 6,
   "id": "79d507d1",
   "metadata": {},
   "outputs": [
    {
     "name": "stdout",
     "output_type": "stream",
     "text": [
      "1384700460829.4932\n"
     ]
    }
   ],
   "source": [
    "\n",
    "NU = 1.0016e-3\n",
    "L  = 5e-3\n",
    "W  = 106.4e-6\n",
    "H  = 100e-6\n",
    "\n",
    "R = lambda NU, L, W, H : (12*NU*L)/(1 - 0.63*(H/W)) * 1/(H**3*W)\n",
    "\n",
    "R1 = R(NU, L, W, H)\n",
    "\n",
    "print(R1)"
   ]
  },
  {
   "cell_type": "code",
   "execution_count": 8,
   "id": "073f35bc",
   "metadata": {},
   "outputs": [
    {
     "name": "stdout",
     "output_type": "stream",
     "text": [
      "7.221778487752929e-08\n"
     ]
    }
   ],
   "source": [
    "P = 100e3\n",
    "\n",
    "flow = P / R1\n",
    "\n",
    "print(flow)"
   ]
  },
  {
   "cell_type": "code",
   "execution_count": 9,
   "id": "44e9105d",
   "metadata": {},
   "outputs": [],
   "source": [
    "A_cs = W * H\n",
    "\n",
    "V = flow / A_cs\n",
    "\n",
    "print(V)"
   ]
  },
  {
   "cell_type": "code",
   "execution_count": null,
   "id": "4bc3ab39",
   "metadata": {},
   "outputs": [],
   "source": []
  }
 ],
 "metadata": {
  "kernelspec": {
   "display_name": "Python 3 (ipykernel)",
   "language": "python",
   "name": "python3"
  },
  "language_info": {
   "codemirror_mode": {
    "name": "ipython",
    "version": 3
   },
   "file_extension": ".py",
   "mimetype": "text/x-python",
   "name": "python",
   "nbconvert_exporter": "python",
   "pygments_lexer": "ipython3",
   "version": "3.8.10"
  }
 },
 "nbformat": 4,
 "nbformat_minor": 5
}
