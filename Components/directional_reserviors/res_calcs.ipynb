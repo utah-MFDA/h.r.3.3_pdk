{
 "cells": [
  {
   "cell_type": "code",
   "execution_count": 1,
   "id": "d145a28b-4142-4ed1-bd0e-254ba43f5b4e",
   "metadata": {},
   "outputs": [],
   "source": [
    "PI = 3.141\n",
    "\n",
    "def calc_vol_of_res(ht, wd_1, wd_2, edge_r):\n",
    "    er = edge_r\n",
    "    # calculate all the square/rectangle volumes\n",
    "    center_vol = (ht-edge_r*2)*(wd_1-edge_r*2)*(wd_2-edge_r*2)\n",
    "    side_vol_1 = (wd_1-er*2)*(ht-er*2)*er*2\n",
    "    side_vol_2 = (wd_2-er*2)*(ht-er*2)*er*2\n",
    "    botTop_vol = (wd_1-er*2)*(wd_2-er*2)*er*2\n",
    "    # the sum of the sides is a cylinder\n",
    "    cyl_1 = wd_1*PI*er**2\n",
    "    cyl_2 = wd_2*PI*er**2\n",
    "    cyl_3 = ht*PI*er**2\n",
    "    # the sum of the corners is a sphere\n",
    "    sph_1 = 4/3*PI*er**2\n",
    "\n",
    "    return center_vol + side_vol_1 + side_vol_2 + botTop_vol + cyl_1 + cyl_2 + cyl_3 + sph_1"
   ]
  },
  {
   "cell_type": "code",
   "execution_count": 18,
   "id": "f69d773d-338c-4380-aa78-a4cb50964874",
   "metadata": {},
   "outputs": [
    {
     "name": "stdout",
     "output_type": "stream",
     "text": [
      "4.044874438488001e-10\n",
      "6.008714321664003e-10\n",
      "8.030314201404e-10\n",
      "1.0028810135295361e-09\n",
      "2.0055945811486727e-09\n"
     ]
    }
   ],
   "source": [
    "PX = 7.6e-6\n",
    "LAYER = 10e-6\n",
    "print(calc_vol_of_res(70*LAYER, 100*PX, 100*PX, 0.2e-6))\n",
    "print(calc_vol_of_res(104*LAYER, 100*PX, 100*PX, 0.2e-6))\n",
    "print(calc_vol_of_res(139*LAYER, 100*PX, 100*PX, 0.2e-6))\n",
    "print(calc_vol_of_res(140*LAYER, 100*PX, 124*PX, 0.2e-6))\n",
    "print(calc_vol_of_res(140*LAYER, 100*PX, 248*PX, 0.2e-6))"
   ]
  },
  {
   "cell_type": "code",
   "execution_count": null,
   "id": "191108a8-c6d5-48f4-9748-3c8f56bd224f",
   "metadata": {},
   "outputs": [],
   "source": []
  }
 ],
 "metadata": {
  "kernelspec": {
   "display_name": "Python 3 (ipykernel)",
   "language": "python",
   "name": "python3"
  },
  "language_info": {
   "codemirror_mode": {
    "name": "ipython",
    "version": 3
   },
   "file_extension": ".py",
   "mimetype": "text/x-python",
   "name": "python",
   "nbconvert_exporter": "python",
   "pygments_lexer": "ipython3",
   "version": "3.9.7"
  }
 },
 "nbformat": 4,
 "nbformat_minor": 5
}
